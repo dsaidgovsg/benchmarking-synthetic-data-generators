{
 "cells": [
  {
   "cell_type": "code",
   "execution_count": 1,
   "id": "425462c5-8137-4c70-ac7e-e540c21e6f6e",
   "metadata": {},
   "outputs": [],
   "source": [
    "import pandas as pd\n",
    "import numpy as np\n",
    "from scipy import stats\n",
    "from sklearn.neighbors import KernelDensity\n",
    "\n",
    "def detect_distribution(column):\n",
    "    # Removing NaN values from the column\n",
    "    data = column.dropna()\n",
    "\n",
    "    # Calculate basic statistics\n",
    "    mean = data.mean()\n",
    "    std = data.std()\n",
    "    skewness = data.skew()\n",
    "\n",
    "    # Fit different distributions and calculate goodness of fit scores\n",
    "    distribution_scores = {\n",
    "        'norm': np.abs(stats.norm.fit(data)[1] - std),\n",
    "        'beta': np.abs(stats.beta.fit(data)[1] - std),\n",
    "        'truncnorm': np.abs(stats.truncnorm.fit(data)[1] - std),\n",
    "        'uniform': np.abs(stats.uniform.fit(data)[1] - std),\n",
    "        'gamma': np.abs(stats.gamma.fit(data)[1] - std)\n",
    "    }\n",
    "\n",
    "    # Fit Gaussian KDE and calculate log-likelihood\n",
    "    kde = KernelDensity(bandwidth=0.2).fit(data.values.reshape(-1, 1))\n",
    "    log_likelihood = kde.score_samples(data.values.reshape(-1, 1)).sum()\n",
    "\n",
    "    distribution_scores['gaussian_kde'] = -log_likelihood\n",
    "\n",
    "    # Find the distribution with the smallest score\n",
    "    detected_distribution = min(distribution_scores, key=distribution_scores.get)\n",
    "\n",
    "    return detected_distribution\n",
    "\n"
   ]
  },
  {
   "cell_type": "code",
   "execution_count": 2,
   "id": "cd29630b-d331-4d17-a980-c401a9245fcc",
   "metadata": {},
   "outputs": [
    {
     "name": "stdout",
     "output_type": "stream",
     "text": [
      "The detected distribution is: norm\n"
     ]
    }
   ],
   "source": [
    "# Example usage\n",
    "data = pd.Series([1.2, 2.5, 3.7, 5.1, 7.9, 6.4, 9.8, 4.2, 2.9, 12.1])\n",
    "detected = detect_distribution(data)\n",
    "print(f\"The detected distribution is: {detected}\")"
   ]
  },
  {
   "cell_type": "code",
   "execution_count": 3,
   "id": "0568ff98-9b1a-4ce9-92fe-59d858924daf",
   "metadata": {},
   "outputs": [
    {
     "name": "stdout",
     "output_type": "stream",
     "text": [
      "The detected distribution is: norm\n"
     ]
    },
    {
     "data": {
      "image/png": "[encoded data removed]",
      "text/plain": [
       "<Figure size 720x432 with 1 Axes>"
      ]
     },
     "metadata": {
      "needs_background": "light"
     },
     "output_type": "display_data"
    }
   ],
   "source": [
    "import pandas as pd\n",
    "import numpy as np\n",
    "from scipy import stats\n",
    "from sklearn.neighbors import KernelDensity\n",
    "import matplotlib.pyplot as plt\n",
    "\n",
    "def plot_histogram_and_fit(column, distribution_name):\n",
    "    plt.figure(figsize=(10, 6))\n",
    "\n",
    "    plt.hist(column, bins=20, density=True, alpha=0.7, label='Histogram')\n",
    "\n",
    "    if distribution_name == 'gaussian_kde':\n",
    "        kde = KernelDensity(bandwidth=0.2).fit(column.values.reshape(-1, 1))\n",
    "        x_range = np.linspace(min(column), max(column), 1000)\n",
    "        log_density = kde.score_samples(x_range.reshape(-1, 1))\n",
    "        plt.plot(x_range, np.exp(log_density), label='Gaussian KDE')\n",
    "\n",
    "    else:\n",
    "        params = getattr(stats, distribution_name).fit(column)\n",
    "        x_range = np.linspace(min(column), max(column), 1000)\n",
    "        fitted_distribution = getattr(stats, distribution_name)(*params)\n",
    "        plt.plot(x_range, fitted_distribution.pdf(x_range), label=distribution_name)\n",
    "\n",
    "    plt.xlabel('Value')\n",
    "    plt.ylabel('Density')\n",
    "    plt.title(f'Distribution Fit: {distribution_name}')\n",
    "    plt.legend()\n",
    "    plt.show()\n",
    "\n",
    "def detect_and_plot_distribution(column):\n",
    "    detected_distribution = detect_distribution(column)\n",
    "    print(f\"The detected distribution is: {detected_distribution}\")\n",
    "    plot_histogram_and_fit(column, detected_distribution)\n",
    "\n",
    "# Example usage\n",
    "data = pd.Series([1.2, 2.5, 3.7, 5.1, 7.9, 6.4, 9.8, 4.2, 2.9, 12.1])\n",
    "detect_and_plot_distribution(data)\n"
   ]
  },
  {
   "cell_type": "code",
   "execution_count": 4,
   "id": "dae07292-1950-490a-aaaa-752fa2bf3188",
   "metadata": {},
   "outputs": [
    {
     "name": "stderr",
     "output_type": "stream",
     "text": [
      "/Users/anshusingh/.pyenv/versions/3.8.11/lib/python3.8/site-packages/numba/core/decorators.py:262: NumbaDeprecationWarning: numba.generated_jit is deprecated. Please see the documentation at: https://numba.readthedocs.io/en/stable/reference/deprecation.html#deprecation-of-generated-jit for more information and advice on a suitable replacement.\n",
      "  warnings.warn(msg, NumbaDeprecationWarning)\n",
      "/Users/anshusingh/.pyenv/versions/3.8.11/lib/python3.8/site-packages/visions/backends/shared/nan_handling.py:51: NumbaDeprecationWarning: The 'nopython' keyword argument was not supplied to the 'numba.jit' decorator. The implicit default value for this argument is currently False, but it will be changed to True in Numba 0.59.0. See https://numba.readthedocs.io/en/stable/reference/deprecation.html#deprecation-of-object-mode-fall-back-behaviour-when-using-jit for details.\n",
      "  def hasna(x: np.ndarray) -> bool:\n"
     ]
    }
   ],
   "source": [
    "from ydata_profiling import ProfileReport"
   ]
  },
  {
   "cell_type": "code",
   "execution_count": 5,
   "id": "878941d3-4c93-4b70-b1f9-d9a2905a3f52",
   "metadata": {},
   "outputs": [],
   "source": [
    "import json\n",
    "import pandas as pd"
   ]
  },
  {
   "cell_type": "code",
   "execution_count": 6,
   "id": "a35bbace-54a0-4972-b3b2-d3f67dd1cae6",
   "metadata": {},
   "outputs": [],
   "source": [
    "train_df = pd.read_csv(\"../data/tabular/census.csv\")\n",
    "train_report = ProfileReport(train_df, title=\"Real\", minimal=False)"
   ]
  },
  {
   "cell_type": "code",
   "execution_count": 18,
   "id": "8c422c89-4463-447a-b752-b734536322cb",
   "metadata": {},
   "outputs": [],
   "source": [
    "sdv_datasets = [\"adult\", \"credit\", \"census\", \"child\", \"covtype\", \"insurance\", \"intrusion\"]\n",
    "other_datasets = [\"health_insurance\", \"accidential_drug_deaths\", \"loan\"] # \"kddcup\"]\n",
    "\n",
    "all_datasets = sdv_datasets + other_datasets"
   ]
  },
  {
   "cell_type": "code",
   "execution_count": 19,
   "id": "269ee608-0bbe-4a4e-8b95-2a9ba9cb3b25",
   "metadata": {},
   "outputs": [
    {
     "data": {
      "text/plain": [
       "['adult',\n",
       " 'credit',\n",
       " 'census',\n",
       " 'child',\n",
       " 'covtype',\n",
       " 'insurance',\n",
       " 'intrusion',\n",
       " 'health_insurance',\n",
       " 'accidential_drug_deaths',\n",
       " 'loan']"
      ]
     },
     "execution_count": 19,
     "metadata": {},
     "output_type": "execute_result"
    }
   ],
   "source": [
    "all_datasets"
   ]
  },
  {
   "cell_type": "code",
   "execution_count": 22,
   "id": "007f9657-7a10-46d0-a837-0c91eee19c46",
   "metadata": {},
   "outputs": [],
   "source": [
    "ML_CLASSIFICATION_TASK_DATASETS = [\n",
    "    \"adult\", \"census\", \"credit\", \"covtype\", \"loan\", \"intrusion\"]\n",
    "ML_REGRESSION_TASK_DATASETS = [\"health_insurance\"]\n",
    "# drugs, child, car insurance\n",
    "ML_TASKS_TARGET_CLASS = {\n",
    "    \"adult\": \"label\",\n",
    "    \"census\": \"label\",\n",
    "    \"credit\": \"label\",\n",
    "    \"covtype\": \"label\",\n",
    "    \"loan\": \"Personal Loan\",\n",
    "    \"intrusion\": \"label\",\n",
    "    \"health_insurance\": \"charges\",\n",
    "}"
   ]
  },
  {
   "cell_type": "code",
   "execution_count": 23,
   "id": "16539816-4cd7-40b9-a953-dd8f2db8e937",
   "metadata": {},
   "outputs": [],
   "source": [
    "cmp_datasets = {\n",
    "    \"name\": [],\n",
    "    \"memory_size\": [],\n",
    "    \"record_size\": [],\n",
    "    \"ml_task\": [],\n",
    "    # \"p_duplicates\": [],\n",
    "    \"p_cells_missing\": [],\n",
    "    \"n_rows\": [],\n",
    "    \"n_cols\": [],\n",
    "    \"n_numeric\": [],\n",
    "    \"n_categoric\": [],\n",
    "    \"n_boolean\": [], \n",
    "    \"n_datetime\": [], \n",
    "    \"n_text\": []\n",
    "}\n",
    "\n",
    "for dn in all_datasets:\n",
    "    \n",
    "    if dn in ML_CLASSIFICATION_TASK_DATASETS:\n",
    "        cmp_datasets[\"ml_task\"].append(\"Classification\")\n",
    "    elif dn in ML_REGRESSION_TASK_DATASETS:\n",
    "        cmp_datasets[\"ml_task\"].append(\"Regression\")\n",
    "    else:\n",
    "        cmp_datasets[\"ml_task\"].append(\"\")\n",
    "    try:\n",
    "        # Load the JSON file into a dictionary\n",
    "        with open(f\"../dataset_profiles/tabular/{dn}/{dn}.json\", \"r\") as json_file:\n",
    "            data_dict = json.load(json_file)            \n",
    "        \n",
    "        tab_data = data_dict[\"table\"]\n",
    "        cmp_datasets[\"name\"].append(dn)\n",
    "        cmp_datasets[\"memory_size\"].append(tab_data[\"memory_size\"])\n",
    "        cmp_datasets[\"record_size\"].append(tab_data[\"record_size\"])\n",
    "        # cmp_datasets[\"p_duplicates\"].append(tab_data[\"p_duplicates\"])\n",
    "        cmp_datasets[\"p_cells_missing\"].append(tab_data[\"p_cells_missing\"])\n",
    "        cmp_datasets[\"n_rows\"].append(tab_data[\"n\"])\n",
    "        cmp_datasets[\"n_cols\"].append(tab_data[\"n_var\"])\n",
    "        cmp_datasets[\"n_numeric\"].append(tab_data[\"types\"][\"Numeric\"])\n",
    "        try:\n",
    "            cmp_datasets[\"n_categoric\"].append(tab_data[\"types\"][\"Categorical\"])\n",
    "        except Exception as e:\n",
    "            cmp_datasets[\"n_categoric\"].append(0)\n",
    "        try:\n",
    "            cmp_datasets[\"n_boolean\"].append(tab_data[\"types\"][\"Boolean\"])\n",
    "        except Exception as e:\n",
    "            cmp_datasets[\"n_boolean\"].append(0)\n",
    "            \n",
    "        try:\n",
    "            cmp_datasets[\"n_text\"].append(tab_data[\"types\"][\"Text\"])\n",
    "        except Exception as e:\n",
    "            cmp_datasets[\"n_text\"].append(0)\n",
    "            \n",
    "        try:\n",
    "            cmp_datasets[\"n_datetime\"].append(tab_data[\"types\"][\"DateTime\"])\n",
    "        except Exception as e:\n",
    "            cmp_datasets[\"n_datetime\"].append(0)\n",
    "             \n",
    "    except Exception as e: \n",
    "        print(e)"
   ]
  },
  {
   "cell_type": "code",
   "execution_count": 24,
   "id": "a02721ea-763e-4e57-9ca4-c5ab36545196",
   "metadata": {},
   "outputs": [],
   "source": [
    "cmp_datasets_df = pd.DataFrame(cmp_datasets)"
   ]
  },
  {
   "cell_type": "code",
   "execution_count": 25,
   "id": "b2e330e4-4ac4-41bf-9ea5-94b1433b8001",
   "metadata": {},
   "outputs": [
    {
     "data": {
      "text/html": [
       "<div>\n",
       "<style scoped>\n",
       "    .dataframe tbody tr th:only-of-type {\n",
       "        vertical-align: middle;\n",
       "    }\n",
       "\n",
       "    .dataframe tbody tr th {\n",
       "        vertical-align: top;\n",
       "    }\n",
       "\n",
       "    .dataframe thead th {\n",
       "        text-align: right;\n",
       "    }\n",
       "</style>\n",
       "<table border=\"1\" class=\"dataframe\">\n",
       "  <thead>\n",
       "    <tr style=\"text-align: right;\">\n",
       "      <th></th>\n",
       "      <th>name</th>\n",
       "      <th>memory_size</th>\n",
       "      <th>record_size</th>\n",
       "      <th>ml_task</th>\n",
       "      <th>p_cells_missing</th>\n",
       "      <th>n_rows</th>\n",
       "      <th>n_cols</th>\n",
       "      <th>n_numeric</th>\n",
       "      <th>n_categoric</th>\n",
       "      <th>n_boolean</th>\n",
       "      <th>n_datetime</th>\n",
       "      <th>n_text</th>\n",
       "    </tr>\n",
       "  </thead>\n",
       "  <tbody>\n",
       "    <tr>\n",
       "      <th>0</th>\n",
       "      <td>adult</td>\n",
       "      <td>4167936</td>\n",
       "      <td>128.003931</td>\n",
       "      <td>Classification</td>\n",
       "      <td>0.000000</td>\n",
       "      <td>32561</td>\n",
       "      <td>16</td>\n",
       "      <td>7</td>\n",
       "      <td>9</td>\n",
       "      <td>0</td>\n",
       "      <td>0</td>\n",
       "      <td>0</td>\n",
       "    </tr>\n",
       "    <tr>\n",
       "      <th>1</th>\n",
       "      <td>credit</td>\n",
       "      <td>70632264</td>\n",
       "      <td>248.000449</td>\n",
       "      <td>Classification</td>\n",
       "      <td>0.000000</td>\n",
       "      <td>284807</td>\n",
       "      <td>31</td>\n",
       "      <td>30</td>\n",
       "      <td>1</td>\n",
       "      <td>0</td>\n",
       "      <td>0</td>\n",
       "      <td>0</td>\n",
       "    </tr>\n",
       "    <tr>\n",
       "      <th>2</th>\n",
       "      <td>census</td>\n",
       "      <td>100559888</td>\n",
       "      <td>336.000428</td>\n",
       "      <td>Classification</td>\n",
       "      <td>0.000102</td>\n",
       "      <td>299285</td>\n",
       "      <td>42</td>\n",
       "      <td>10</td>\n",
       "      <td>31</td>\n",
       "      <td>0</td>\n",
       "      <td>0</td>\n",
       "      <td>1</td>\n",
       "    </tr>\n",
       "    <tr>\n",
       "      <th>3</th>\n",
       "      <td>child</td>\n",
       "      <td>3360128</td>\n",
       "      <td>168.006400</td>\n",
       "      <td></td>\n",
       "      <td>0.019826</td>\n",
       "      <td>20000</td>\n",
       "      <td>21</td>\n",
       "      <td>1</td>\n",
       "      <td>14</td>\n",
       "      <td>6</td>\n",
       "      <td>0</td>\n",
       "      <td>0</td>\n",
       "    </tr>\n",
       "    <tr>\n",
       "      <th>4</th>\n",
       "      <td>covtype</td>\n",
       "      <td>260293504</td>\n",
       "      <td>448.000220</td>\n",
       "      <td>Classification</td>\n",
       "      <td>0.000000</td>\n",
       "      <td>581012</td>\n",
       "      <td>56</td>\n",
       "      <td>12</td>\n",
       "      <td>44</td>\n",
       "      <td>0</td>\n",
       "      <td>0</td>\n",
       "      <td>0</td>\n",
       "    </tr>\n",
       "    <tr>\n",
       "      <th>5</th>\n",
       "      <td>insurance</td>\n",
       "      <td>3500128</td>\n",
       "      <td>175.006400</td>\n",
       "      <td></td>\n",
       "      <td>0.052054</td>\n",
       "      <td>20000</td>\n",
       "      <td>28</td>\n",
       "      <td>1</td>\n",
       "      <td>20</td>\n",
       "      <td>7</td>\n",
       "      <td>0</td>\n",
       "      <td>0</td>\n",
       "    </tr>\n",
       "    <tr>\n",
       "      <th>6</th>\n",
       "      <td>intrusion</td>\n",
       "      <td>165991184</td>\n",
       "      <td>336.000259</td>\n",
       "      <td>Classification</td>\n",
       "      <td>0.000000</td>\n",
       "      <td>494021</td>\n",
       "      <td>42</td>\n",
       "      <td>14</td>\n",
       "      <td>27</td>\n",
       "      <td>0</td>\n",
       "      <td>0</td>\n",
       "      <td>1</td>\n",
       "    </tr>\n",
       "    <tr>\n",
       "      <th>7</th>\n",
       "      <td>health_insurance</td>\n",
       "      <td>75056</td>\n",
       "      <td>56.095665</td>\n",
       "      <td>Regression</td>\n",
       "      <td>0.000000</td>\n",
       "      <td>1338</td>\n",
       "      <td>7</td>\n",
       "      <td>4</td>\n",
       "      <td>2</td>\n",
       "      <td>1</td>\n",
       "      <td>0</td>\n",
       "      <td>0</td>\n",
       "    </tr>\n",
       "    <tr>\n",
       "      <th>8</th>\n",
       "      <td>accidential_drug_deaths</td>\n",
       "      <td>2443008</td>\n",
       "      <td>320.016767</td>\n",
       "      <td></td>\n",
       "      <td>0.561711</td>\n",
       "      <td>7634</td>\n",
       "      <td>40</td>\n",
       "      <td>1</td>\n",
       "      <td>9</td>\n",
       "      <td>21</td>\n",
       "      <td>1</td>\n",
       "      <td>8</td>\n",
       "    </tr>\n",
       "    <tr>\n",
       "      <th>9</th>\n",
       "      <td>loan</td>\n",
       "      <td>560128</td>\n",
       "      <td>112.025600</td>\n",
       "      <td>Classification</td>\n",
       "      <td>0.000000</td>\n",
       "      <td>5000</td>\n",
       "      <td>14</td>\n",
       "      <td>7</td>\n",
       "      <td>7</td>\n",
       "      <td>0</td>\n",
       "      <td>0</td>\n",
       "      <td>0</td>\n",
       "    </tr>\n",
       "  </tbody>\n",
       "</table>\n",
       "</div>"
      ],
      "text/plain": [
       "                      name  memory_size  record_size         ml_task  \\\n",
       "0                    adult      4167936   128.003931  Classification   \n",
       "1                   credit     70632264   248.000449  Classification   \n",
       "2                   census    100559888   336.000428  Classification   \n",
       "3                    child      3360128   168.006400                   \n",
       "4                  covtype    260293504   448.000220  Classification   \n",
       "5                insurance      3500128   175.006400                   \n",
       "6                intrusion    165991184   336.000259  Classification   \n",
       "7         health_insurance        75056    56.095665      Regression   \n",
       "8  accidential_drug_deaths      2443008   320.016767                   \n",
       "9                     loan       560128   112.025600  Classification   \n",
       "\n",
       "   p_cells_missing  n_rows  n_cols  n_numeric  n_categoric  n_boolean  \\\n",
       "0         0.000000   32561      16          7            9          0   \n",
       "1         0.000000  284807      31         30            1          0   \n",
       "2         0.000102  299285      42         10           31          0   \n",
       "3         0.019826   20000      21          1           14          6   \n",
       "4         0.000000  581012      56         12           44          0   \n",
       "5         0.052054   20000      28          1           20          7   \n",
       "6         0.000000  494021      42         14           27          0   \n",
       "7         0.000000    1338       7          4            2          1   \n",
       "8         0.561711    7634      40          1            9         21   \n",
       "9         0.000000    5000      14          7            7          0   \n",
       "\n",
       "   n_datetime  n_text  \n",
       "0           0       0  \n",
       "1           0       0  \n",
       "2           0       1  \n",
       "3           0       0  \n",
       "4           0       0  \n",
       "5           0       0  \n",
       "6           0       1  \n",
       "7           0       0  \n",
       "8           1       8  \n",
       "9           0       0  "
      ]
     },
     "execution_count": 25,
     "metadata": {},
     "output_type": "execute_result"
    }
   ],
   "source": [
    "cmp_datasets_df"
   ]
  },
  {
   "cell_type": "code",
   "execution_count": null,
   "id": "919c117d-2ed6-4d0e-a67d-b94f9cac5017",
   "metadata": {},
   "outputs": [],
   "source": []
  },
  {
   "cell_type": "code",
   "execution_count": 14,
   "id": "88bf2eae-e8e8-42e2-a921-650e2c799f93",
   "metadata": {},
   "outputs": [],
   "source": [
    "def get_minimal_profile(variables_dict):\n",
    "    profiles = {}\n",
    "    profiles[\"table\"] = variables_dict[\"table\"]\n",
    "    profiles[\"alerts\"] = variables_dict[\"alerts\"]\n",
    "    profiles[\"variables\"] = {}\n",
    "    for k, v in variables_dict[\"variables\"].items():\n",
    "        dtype = v[\"type\"]\n",
    "        var_profile = {}\n",
    "        \n",
    "        # Supported Ydata types\n",
    "        # - Boolean\n",
    "        # - Numerical\n",
    "        # - Date (and Datetime)\n",
    "        # - Categorical\n",
    "        # - Time-series\n",
    "        # - URL\n",
    "        # - Path\n",
    "        # - File\n",
    "        # - Image\n",
    "        if dtype == \"Categorical\":\n",
    "            var_profile = {\n",
    "                \"type\": dtype,\n",
    "                \"n_distinct\": v[\"n_distinct\"],\n",
    "                \"n_missing\": v[\"n_missing\"],\n",
    "                \"freq_counts\": v[\"word_counts\"],\n",
    "                \"imbalance\": v[\"imbalance\"]\n",
    "            }\n",
    "        elif dtype == \"Numeric\":\n",
    "            var_profile = {\n",
    "                \"type\": dtype,\n",
    "                \"n_distinct\": v[\"n_distinct\"],\n",
    "                \"n_missing\": v[\"n_missing\"],             \n",
    "                \"kurtosis\": v[\"kurtosis\"],\n",
    "                \"skewness\": v[\"skewness\"],\n",
    "                \"monotonic\": v[\"monotonic\"]\n",
    "            }\n",
    "        elif dtype == \"Boolean\":\n",
    "            var_profile = {\n",
    "                \"type\": dtype,\n",
    "                \"n_distinct\": v[\"n_distinct\"],\n",
    "                \"n_missing\": v[\"n_missing\"],\n",
    "                \"imbalance\": v[\"imbalance\"]\n",
    "            }\n",
    "        else:    \n",
    "            var_profile = v\n",
    "            print(\"None a valid type : \", dtype)\n",
    "        profiles[\"variables\"][k] = var_profile\n",
    "    return profiles"
   ]
  },
  {
   "cell_type": "code",
   "execution_count": 17,
   "id": "0fc2a216-020d-48ec-8d04-1ec2cf90dd53",
   "metadata": {},
   "outputs": [],
   "source": [
    "import os"
   ]
  },
  {
   "cell_type": "code",
   "execution_count": 22,
   "id": "eec8c941-e915-4615-805d-e13183f64844",
   "metadata": {},
   "outputs": [
    {
     "data": {
      "application/vnd.jupyter.widget-view+json": {
       "model_id": "c871e56157264e0aaa7aa34c0b48478e",
       "version_major": 2,
       "version_minor": 0
      },
      "text/plain": [
       "Summarize dataset:   0%|          | 0/5 [00:00<?, ?it/s]"
      ]
     },
     "metadata": {},
     "output_type": "display_data"
    },
    {
     "name": "stderr",
     "output_type": "stream",
     "text": [
      "/Users/anshusingh/.pyenv/versions/3.8.11/lib/python3.8/site-packages/ydata_profiling/model/correlations.py:66: UserWarning: There was an attempt to calculate the auto correlation, but this failed.\n",
      "To hide this warning, disable the calculation\n",
      "(using `df.profile_report(correlations={\"auto\": {\"calculate\": False}})`\n",
      "If this is problematic for your use case, please report this as an issue:\n",
      "https://github.com/ydataai/ydata-profiling/issues\n",
      "(include the error message: 'cannot handle a non-unique multi-index!')\n",
      "  warnings.warn(\n"
     ]
    },
    {
     "data": {
      "application/vnd.jupyter.widget-view+json": {
       "model_id": "d51eeaa1c4394441b0ee5e027e0a0a6b",
       "version_major": 2,
       "version_minor": 0
      },
      "text/plain": [
       "Render JSON:   0%|          | 0/1 [00:00<?, ?it/s]"
      ]
     },
     "metadata": {},
     "output_type": "display_data"
    },
    {
     "name": "stdout",
     "output_type": "stream",
     "text": [
      "None a valid type :  Text\n"
     ]
    },
    {
     "data": {
      "application/vnd.jupyter.widget-view+json": {
       "model_id": "0ddfc0d2ff6c4c85b4846cc62a4d2074",
       "version_major": 2,
       "version_minor": 0
      },
      "text/plain": [
       "Export report to file:   0%|          | 0/1 [00:00<?, ?it/s]"
      ]
     },
     "metadata": {},
     "output_type": "display_data"
    },
    {
     "data": {
      "application/vnd.jupyter.widget-view+json": {
       "model_id": "d68c9ea4301b401c90118490ce716123",
       "version_major": 2,
       "version_minor": 0
      },
      "text/plain": [
       "Generate report structure:   0%|          | 0/1 [00:00<?, ?it/s]"
      ]
     },
     "metadata": {},
     "output_type": "display_data"
    },
    {
     "data": {
      "application/vnd.jupyter.widget-view+json": {
       "model_id": "41761d9227404d7ca108fa0a33736416",
       "version_major": 2,
       "version_minor": 0
      },
      "text/plain": [
       "Render HTML:   0%|          | 0/1 [00:00<?, ?it/s]"
      ]
     },
     "metadata": {},
     "output_type": "display_data"
    },
    {
     "data": {
      "application/vnd.jupyter.widget-view+json": {
       "model_id": "0ee5c2d82f664c098a8596292697ec81",
       "version_major": 2,
       "version_minor": 0
      },
      "text/plain": [
       "Export report to file:   0%|          | 0/1 [00:00<?, ?it/s]"
      ]
     },
     "metadata": {},
     "output_type": "display_data"
    }
   ],
   "source": [
    "# for dataset_name in single_table_dataset_names:\n",
    "#     print(\"-*-\"*10)\n",
    "#     print(\" \"*4, dataset_name)\n",
    "#     print(\"-*-\"*10)\n",
    "    \n",
    "# dataset_name = \"personal_loan\"\n",
    "dataset_name = \"kddcup\"\n",
    "# dataset_name = \"accidential_drug_deaths\"\n",
    "\n",
    "output_path = f\"../dataset_profiles/tabular/{dataset_name}\"\n",
    "if not os.path.exists(output_path):\n",
    "    os.makedirs(output_path)\n",
    "\n",
    "# df = pd.read_csv(f\"data/tabular/{dataset_name}.csv\")\n",
    "\n",
    "\n",
    "# df = pd.read_csv(f\"../sample_datasets/{dataset_name}.csv\")\n",
    "df = pd.read_csv(f\"../kddcup.csv\")\n",
    "\n",
    "profile = ProfileReport(df, minimal=False)\n",
    "\n",
    "# As a JSON string\n",
    "json_data = profile.to_json()\n",
    "\n",
    "json_dict = json.loads(json_data)\n",
    "var_profiles = get_minimal_profile(json_dict)\n",
    "\n",
    "# Save the dictionary as a JSON file\n",
    "with open(f\"{output_path}/{dataset_name}.json\", \"w\") as json_file:\n",
    "    json.dump(var_profiles, json_file)\n",
    "\n",
    "# As a file\n",
    "profile.to_file(f\"{output_path}/{dataset_name}_detailed.json\")\n",
    "profile.to_file(f\"{output_path}/{dataset_name}.html\")"
   ]
  },
  {
   "cell_type": "code",
   "execution_count": 37,
   "id": "307f1368-eca2-4cfc-b692-56883a2be36c",
   "metadata": {},
   "outputs": [],
   "source": [
    "kdd_col = list(df.columns)"
   ]
  },
  {
   "cell_type": "code",
   "execution_count": 34,
   "id": "df328b52-005f-4cda-b574-f5e5b70cdbd4",
   "metadata": {},
   "outputs": [],
   "source": [
    "df2 = pd.read_csv(f\"../data/tabular/intrusion.csv\")"
   ]
  },
  {
   "cell_type": "code",
   "execution_count": 38,
   "id": "ddbbaed8-88f2-48bc-9a71-94184f358e1e",
   "metadata": {},
   "outputs": [],
   "source": [
    "intrusion_col = list(df2.columns)"
   ]
  },
  {
   "cell_type": "code",
   "execution_count": 41,
   "id": "745dd66a-eafe-41d2-9dff-29c6f264a82c",
   "metadata": {},
   "outputs": [
    {
     "data": {
      "text/plain": [
       "(40, 42)"
      ]
     },
     "execution_count": 41,
     "metadata": {},
     "output_type": "execute_result"
    }
   ],
   "source": [
    "len(kdd_col), len(intrusion_col)"
   ]
  },
  {
   "cell_type": "code",
   "execution_count": 39,
   "id": "8534e6a6-4051-4882-955c-d18f22e4c2f1",
   "metadata": {},
   "outputs": [],
   "source": [
    "common_elements = list(set(kdd_col).intersection(intrusion_col))\n"
   ]
  },
  {
   "cell_type": "code",
   "execution_count": 42,
   "id": "1d2ba041-e9f1-489e-bef4-f2d55c2f2606",
   "metadata": {},
   "outputs": [
    {
     "data": {
      "text/plain": [
       "39"
      ]
     },
     "execution_count": 42,
     "metadata": {},
     "output_type": "execute_result"
    }
   ],
   "source": [
    "len(common_elements)"
   ]
  },
  {
   "cell_type": "code",
   "execution_count": 43,
   "id": "332f29e0-f657-4f7d-8c41-ae9df3956d37",
   "metadata": {},
   "outputs": [],
   "source": [
    "elements_only_in_kdd_col = list(set(kdd_col) - set(intrusion_col))"
   ]
  },
  {
   "cell_type": "code",
   "execution_count": 44,
   "id": "1d4c3c5c-74cf-4921-a37a-9d4f026253ab",
   "metadata": {},
   "outputs": [
    {
     "data": {
      "text/plain": [
       "['num_outbound_cmds']"
      ]
     },
     "execution_count": 44,
     "metadata": {},
     "output_type": "execute_result"
    }
   ],
   "source": [
    "elements_only_in_kdd_col"
   ]
  },
  {
   "cell_type": "code",
   "execution_count": 45,
   "id": "6b962fbe-b868-45f7-b5e3-ae2cc5cbc8a2",
   "metadata": {},
   "outputs": [
    {
     "data": {
      "text/plain": [
       "['dst_host_srv_rerror_rate', 'label', 'Unnamed: 0']"
      ]
     },
     "execution_count": 45,
     "metadata": {},
     "output_type": "execute_result"
    }
   ],
   "source": [
    "elements_only_in_intrusion_col = list(set(intrusion_col) - set(kdd_col))\n",
    "elements_only_in_intrusion_col"
   ]
  },
  {
   "cell_type": "code",
   "execution_count": 118,
   "id": "e60efb06-84dc-4169-bed5-9770eff9bd9b",
   "metadata": {},
   "outputs": [],
   "source": [
    "a_df = pd.read_csv(\"../data/tabular/adult.csv\")\n",
    "c_df = pd.read_csv(\"../data/tabular/census.csv\")"
   ]
  },
  {
   "cell_type": "code",
   "execution_count": 120,
   "id": "75c7226d-95b4-4f5c-bf8d-f7c0cb603b01",
   "metadata": {},
   "outputs": [],
   "source": [
    "a_col = list(a_df.columns)\n",
    "c_col = list(c_df.columns)"
   ]
  },
  {
   "cell_type": "code",
   "execution_count": 121,
   "id": "29ecb90c-8cc7-4344-aa60-0b9efb317ef4",
   "metadata": {},
   "outputs": [],
   "source": [
    "common_elements = list(set(a_col).intersection(c_col))"
   ]
  },
  {
   "cell_type": "code",
   "execution_count": 123,
   "id": "d587fd3b-6d75-4e21-8af1-6ed93b160574",
   "metadata": {},
   "outputs": [
    {
     "data": {
      "text/plain": [
       "['label', 'sex', 'education', 'Unnamed: 0', 'age', 'race']"
      ]
     },
     "execution_count": 123,
     "metadata": {},
     "output_type": "execute_result"
    }
   ],
   "source": [
    "common_elements"
   ]
  },
  {
   "cell_type": "code",
   "execution_count": 124,
   "id": "45e4de8f-b13c-431b-b351-00029a571735",
   "metadata": {},
   "outputs": [],
   "source": [
    "elements_only_in_a_col = list(set(a_col) - set(c_col))"
   ]
  },
  {
   "cell_type": "code",
   "execution_count": 125,
   "id": "f57ab358-0e43-4a0a-9ace-eb0aeb5c005b",
   "metadata": {},
   "outputs": [
    {
     "data": {
      "text/plain": [
       "['occupation',\n",
       " 'native-country',\n",
       " 'capital-gain',\n",
       " 'capital-loss',\n",
       " 'fnlwgt',\n",
       " 'workclass',\n",
       " 'hours-per-week',\n",
       " 'marital-status',\n",
       " 'relationship',\n",
       " 'education-num']"
      ]
     },
     "execution_count": 125,
     "metadata": {},
     "output_type": "execute_result"
    }
   ],
   "source": [
    "elements_only_in_a_col"
   ]
  },
  {
   "cell_type": "code",
   "execution_count": null,
   "id": "9709053b-2474-4752-820c-156bd1ec19ab",
   "metadata": {},
   "outputs": [],
   "source": [
    "ml_tasks = {\n",
    " 'adult': 'Classification'\n",
    " 'credit': 'Classification'\n",
    " 'census': 'Classification'\n",
    " # 'child': 'Classification'\n",
    " 'covtype': 'Classification'\n",
    " 'insurance': 'Classification'\n",
    " 'intrusion': 'Classification'\n",
    " 'health_insurance': 'Regression'\n",
    " # 'accidential_drug_deaths': 'Classification'\n",
    " 'personal_loan': 'Classification'\n",
    "}"
   ]
  },
  {
   "cell_type": "code",
   "execution_count": 59,
   "id": "97db9eaf-3ea0-4e23-ae17-db6318fd0aff",
   "metadata": {},
   "outputs": [],
   "source": [
    "%matplotlib inline"
   ]
  },
  {
   "cell_type": "code",
   "execution_count": 95,
   "id": "0fcc70b3-ee51-4235-a228-d3d8847ebe52",
   "metadata": {},
   "outputs": [],
   "source": [
    "def plot_target_distribution(df, dataset_name, col_name='label'):\n",
    "    # Count the frequency of each category\n",
    "    category_counts = df[col_name].value_counts()\n",
    "\n",
    "    # Plot the frequency graph using pandas\n",
    "    category_counts.plot(kind='bar')\n",
    "\n",
    "    plt.xlabel(col_name)\n",
    "    plt.ylabel('Frequency')\n",
    "    plt.title(dataset_name)\n",
    "    plt.show()"
   ]
  },
  {
   "cell_type": "code",
   "execution_count": 96,
   "id": "cc242524-27a1-4823-ab8e-1e2006d27c0a",
   "metadata": {},
   "outputs": [
    {
     "data": {
      "image/png": "[encoded data removed]",
      "text/plain": [
       "<Figure size 432x288 with 1 Axes>"
      ]
     },
     "metadata": {
      "needs_background": "light"
     },
     "output_type": "display_data"
    }
   ],
   "source": [
    "df = pd.read_csv(\"../data/tabular/Adult.csv\")\n",
    "plot_target_distribution(df, \"Adult\", \"label\")"
   ]
  },
  {
   "cell_type": "code",
   "execution_count": 97,
   "id": "338d6a94-1c73-43c6-819b-0c6d9ee7f3ed",
   "metadata": {},
   "outputs": [
    {
     "data": {
      "image/png": "[encoded data removed]",
      "text/plain": [
       "<Figure size 432x288 with 1 Axes>"
      ]
     },
     "metadata": {
      "needs_background": "light"
     },
     "output_type": "display_data"
    }
   ],
   "source": [
    "df = pd.read_csv(\"../data/tabular/Intrusion.csv\")\n",
    "plot_target_distribution(df, \"Intrusion\", \"label\")"
   ]
  },
  {
   "cell_type": "code",
   "execution_count": 98,
   "id": "2e9ca816-f50d-4f3e-aad6-713fcb807796",
   "metadata": {},
   "outputs": [
    {
     "data": {
      "image/png": "[encoded data removed]",
      "text/plain": [
       "<Figure size 432x288 with 1 Axes>"
      ]
     },
     "metadata": {
      "needs_background": "light"
     },
     "output_type": "display_data"
    }
   ],
   "source": [
    "df = pd.read_csv(\"../data/tabular/Census.csv\")\n",
    "plot_target_distribution(df, \"Census\", \"label\")"
   ]
  },
  {
   "cell_type": "code",
   "execution_count": 99,
   "id": "057c28c8-6c7b-45c9-8acf-679b660d3658",
   "metadata": {},
   "outputs": [
    {
     "data": {
      "image/png": "[encoded data removed]",
      "text/plain": [
       "<Figure size 432x288 with 1 Axes>"
      ]
     },
     "metadata": {
      "needs_background": "light"
     },
     "output_type": "display_data"
    }
   ],
   "source": [
    "df = pd.read_csv(\"../data/tabular/Covtype.csv\")\n",
    "plot_target_distribution(df, \"Covtype\", \"label\")"
   ]
  },
  {
   "cell_type": "code",
   "execution_count": 100,
   "id": "1e39b89f-54bd-42cf-a36d-279e6f7c7dcc",
   "metadata": {},
   "outputs": [
    {
     "data": {
      "image/png": "[encoded data removed]",
      "text/plain": [
       "<Figure size 432x288 with 1 Axes>"
      ]
     },
     "metadata": {
      "needs_background": "light"
     },
     "output_type": "display_data"
    }
   ],
   "source": [
    "df = pd.read_csv(\"../data/tabular/Credit.csv\")\n",
    "plot_target_distribution(df, \"Credit\", \"label\")"
   ]
  },
  {
   "cell_type": "code",
   "execution_count": 101,
   "id": "634284ae-1706-4b49-96cb-e673d895b575",
   "metadata": {},
   "outputs": [
    {
     "data": {
      "image/png": "[encoded data removed]",
      "text/plain": [
       "<Figure size 432x288 with 1 Axes>"
      ]
     },
     "metadata": {
      "needs_background": "light"
     },
     "output_type": "display_data"
    }
   ],
   "source": [
    "df = pd.read_csv(\"../sample_datasets/personal_loan.csv\")\n",
    "plot_target_distribution(df, \"Loan\", \"Personal Loan\")"
   ]
  },
  {
   "cell_type": "code",
   "execution_count": 81,
   "id": "2bb0b761-c90c-48bc-9159-9a14bc4a1d31",
   "metadata": {},
   "outputs": [
    {
     "data": {
      "text/plain": [
       "<AxesSubplot:ylabel='Frequency'>"
      ]
     },
     "execution_count": 81,
     "metadata": {},
     "output_type": "execute_result"
    },
    {
     "data": {
      "image/png": "[encoded data removed]",
      "text/plain": [
       "<Figure size 432x288 with 1 Axes>"
      ]
     },
     "metadata": {
      "needs_background": "light"
     },
     "output_type": "display_data"
    }
   ],
   "source": [
    "df_health = pd.read_csv(\"../sample_datasets/health_insurance.csv\")\n",
    "df_health[\"charges\"].plot.hist(bins=12, alpha=0.5)"
   ]
  },
  {
   "cell_type": "code",
   "execution_count": 102,
   "id": "f6d8c126-87f3-4fb7-a349-f4a85cb51c87",
   "metadata": {},
   "outputs": [],
   "source": [
    "\n"
   ]
  },
  {
   "cell_type": "code",
   "execution_count": 113,
   "id": "ce3adee1-22e9-41ea-bbbd-48cf79c9a8ab",
   "metadata": {},
   "outputs": [],
   "source": [
    "df = pd.read_csv(\"../sample_datasets/personal_loan.csv\")\n",
    "\n",
    "df_copy = df.copy()\n",
    "\n",
    "X_train, X_test, y_train, y_test = stratified_split_dataframe(df_copy, target_column='Personal Loan', test_size=0.2, random_state=42)\n"
   ]
  },
  {
   "cell_type": "code",
   "execution_count": 117,
   "id": "189e2c26-c016-485e-87b0-c77679969f1d",
   "metadata": {},
   "outputs": [
    {
     "data": {
      "text/plain": [
       "2388    0\n",
       "2373    1\n",
       "4347    0\n",
       "665     0\n",
       "4182    0\n",
       "       ..\n",
       "1590    0\n",
       "4986    0\n",
       "433     0\n",
       "1821    0\n",
       "686     0\n",
       "Name: Personal Loan, Length: 1000, dtype: int64"
      ]
     },
     "execution_count": 117,
     "metadata": {},
     "output_type": "execute_result"
    }
   ],
   "source": [
    "y_test"
   ]
  },
  {
   "cell_type": "code",
   "execution_count": 107,
   "id": "1e984c64-a0a1-45f0-960a-366025747f78",
   "metadata": {},
   "outputs": [
    {
     "data": {
      "text/plain": [
       "408     0\n",
       "3737    0\n",
       "3889    0\n",
       "568     0\n",
       "1041    0\n",
       "       ..\n",
       "4587    0\n",
       "2341    0\n",
       "1585    0\n",
       "3152    0\n",
       "4785    0\n",
       "Name: Personal Loan, Length: 4000, dtype: int64"
      ]
     },
     "execution_count": 107,
     "metadata": {},
     "output_type": "execute_result"
    }
   ],
   "source": [
    "y_train"
   ]
  },
  {
   "cell_type": "code",
   "execution_count": 104,
   "id": "a248c826-96a4-4b8c-8a1b-f99007720a69",
   "metadata": {},
   "outputs": [
    {
     "name": "stdout",
     "output_type": "stream",
     "text": [
      "X_train:\n",
      " (5000, 14)\n",
      "X_train:\n",
      " (4000, 13)\n",
      "X_test:\n",
      " (1000, 13)\n",
      "y_train:\n",
      " (4000,)\n",
      "y_test:\n",
      " (1000,)\n"
     ]
    }
   ],
   "source": [
    "print(\"X_train:\\n\", df.shape)\n",
    "print(\"X_train:\\n\", X_train.shape)\n",
    "print(\"X_test:\\n\", X_test.shape)\n",
    "print(\"y_train:\\n\", y_train.shape)\n",
    "print(\"y_test:\\n\", y_test.shape)"
   ]
  },
  {
   "cell_type": "code",
   "execution_count": 108,
   "id": "32c14f8c-df89-4240-a466-b8a7c19ed87f",
   "metadata": {},
   "outputs": [
    {
     "data": {
      "image/png": "[encoded data removed]",
      "text/plain": [
       "<Figure size 720x288 with 2 Axes>"
      ]
     },
     "metadata": {
      "needs_background": "light"
     },
     "output_type": "display_data"
    }
   ],
   "source": [
    "# Plot label distributions\n",
    "fig, axes = plt.subplots(1, 2, figsize=(10, 4))\n",
    "fig.suptitle('Train and Test Label Distributions')\n",
    "\n",
    "y_train.value_counts().plot(kind='bar', ax=axes[0], color='blue', alpha=0.7)\n",
    "axes[0].set_title('Train Labels')\n",
    "axes[0].set_xlabel('Class')\n",
    "axes[0].set_ylabel('Count')\n",
    "\n",
    "y_test.value_counts().plot(kind='bar', ax=axes[1], color='orange', alpha=0.7)\n",
    "axes[1].set_title('Test Labels')\n",
    "axes[1].set_xlabel('Class')\n",
    "axes[1].set_ylabel('Count')\n",
    "\n",
    "plt.tight_layout()\n",
    "plt.show()"
   ]
  },
  {
   "cell_type": "code",
   "execution_count": null,
   "id": "8df72758-8d9e-4bfd-9c96-a7f7f2b143e6",
   "metadata": {},
   "outputs": [
    {
     "name": "stdout",
     "output_type": "stream",
     "text": [
      "X_train:\n",
      "    feature1  feature2\n",
      "5         3        13\n",
      "0         9        19\n",
      "7         5        15\n",
      "2         6        16\n",
      "9         7        17\n",
      "4         8        18\n",
      "3         1        11\n",
      "6        10        20\n",
      "X_test:\n",
      "    feature1  feature2\n",
      "8         4        14\n",
      "1         2        12\n"
     ]
    }
   ],
   "source": [
    "import pandas as pd\n",
    "from sklearn.model_selection import train_test_split\n",
    "\n",
    "def shuffle_and_split_dataframe(df, test_size=0.2, random_state=None):\n",
    "    \"\"\"\n",
    "    Shuffle and split a pandas DataFrame into training and testing subsets.\n",
    "\n",
    "    Parameters:\n",
    "    - df (pandas.DataFrame): The input DataFrame.\n",
    "    - test_size (float): The proportion of the dataset to include in the test split.\n",
    "    - random_state (int or None): Seed for the random number generator.\n",
    "\n",
    "    Returns:\n",
    "    - X_train (pandas.DataFrame): Training features.\n",
    "    - X_test (pandas.DataFrame): Test features.\n",
    "    \"\"\"\n",
    "    # Shuffle the DataFrame\n",
    "    shuffled_df = df.sample(frac=1, random_state=random_state).reset_index(drop=True)\n",
    "\n",
    "    X = shuffled_df\n",
    "\n",
    "    X_train, X_test = train_test_split(\n",
    "        X, test_size=test_size, random_state=random_state\n",
    "    )\n",
    "\n",
    "    return X_train, X_test\n",
    "\n",
    "# Example usage\n",
    "data = {\n",
    "    'feature1': [1, 2, 3, 4, 5, 6, 7, 8, 9, 10],\n",
    "    'feature2': [11, 12, 13, 14, 15, 16, 17, 18, 19, 20]\n",
    "}\n",
    "\n",
    "df = pd.DataFrame(data)\n",
    "\n",
    "X_train, X_test = shuffle_and_split_dataframe(df, test_size=0.2, random_state=42)\n",
    "\n",
    "print(\"X_train:\\n\", X_train)\n",
    "print(\"X_test:\\n\", X_test)\n"
   ]
  }
 ],
 "metadata": {
  "kernelspec": {
   "display_name": "Python 3 (ipykernel)",
   "language": "python",
   "name": "python3"
  },
  "language_info": {
   "codemirror_mode": {
    "name": "ipython",
    "version": 3
   },
   "file_extension": ".py",
   "mimetype": "text/x-python",
   "name": "python",
   "nbconvert_exporter": "python",
   "pygments_lexer": "ipython3",
   "version": "3.8.11"
  }
 },
 "nbformat": 4,
 "nbformat_minor": 5
}
